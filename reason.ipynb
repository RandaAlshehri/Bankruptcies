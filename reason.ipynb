{
  "cells": [
    {
      "cell_type": "markdown",
      "metadata": {
        "id": "view-in-github",
        "colab_type": "text"
      },
      "source": [
        "<a href=\"https://colab.research.google.com/github/RandaAlshehri/Bankruptcies/blob/main/reason.ipynb\" target=\"_parent\"><img src=\"https://colab.research.google.com/assets/colab-badge.svg\" alt=\"Open In Colab\"/></a>"
      ]
    },
    {
      "cell_type": "code",
      "execution_count": null,
      "metadata": {
        "colab": {
          "base_uri": "https://localhost:8080/"
        },
        "id": "QH598Gt4oe8T",
        "outputId": "ec154c2a-558e-4bfa-fb75-56ffce524014"
      },
      "outputs": [
        {
          "name": "stdout",
          "output_type": "stream",
          "text": [
            "\u001b[?25l   \u001b[90m━━━━━━━━━━━━━━━━━━━━━━━━━━━━━━━━━━━━━━━━\u001b[0m \u001b[32m0.0/767.7 kB\u001b[0m \u001b[31m?\u001b[0m eta \u001b[36m-:--:--\u001b[0m\r\u001b[2K   \u001b[90m━━━━━━━━━━━━━━━━━━━━━━━━━━━━━━━━━━━━━━━━\u001b[0m \u001b[32m767.7/767.7 kB\u001b[0m \u001b[31m23.5 MB/s\u001b[0m eta \u001b[36m0:00:00\u001b[0m\n",
            "\u001b[?25h"
          ]
        }
      ],
      "source": [
        "!pip -q install -U openai"
      ]
    },
    {
      "cell_type": "code",
      "execution_count": null,
      "metadata": {
        "colab": {
          "base_uri": "https://localhost:8080/"
        },
        "id": "PaCC43EcYzOh",
        "outputId": "6d7da749-aba0-4a51-d031-00fe8e52d1b6"
      },
      "outputs": [
        {
          "name": "stdout",
          "output_type": "stream",
          "text": [
            "Requirement already satisfied: openai in /usr/local/lib/python3.11/dist-packages (1.97.1)\n",
            "Requirement already satisfied: anyio<5,>=3.5.0 in /usr/local/lib/python3.11/dist-packages (from openai) (4.9.0)\n",
            "Requirement already satisfied: distro<2,>=1.7.0 in /usr/local/lib/python3.11/dist-packages (from openai) (1.9.0)\n",
            "Requirement already satisfied: httpx<1,>=0.23.0 in /usr/local/lib/python3.11/dist-packages (from openai) (0.28.1)\n",
            "Requirement already satisfied: jiter<1,>=0.4.0 in /usr/local/lib/python3.11/dist-packages (from openai) (0.10.0)\n",
            "Requirement already satisfied: pydantic<3,>=1.9.0 in /usr/local/lib/python3.11/dist-packages (from openai) (2.11.7)\n",
            "Requirement already satisfied: sniffio in /usr/local/lib/python3.11/dist-packages (from openai) (1.3.1)\n",
            "Requirement already satisfied: tqdm>4 in /usr/local/lib/python3.11/dist-packages (from openai) (4.67.1)\n",
            "Requirement already satisfied: typing-extensions<5,>=4.11 in /usr/local/lib/python3.11/dist-packages (from openai) (4.14.1)\n",
            "Requirement already satisfied: idna>=2.8 in /usr/local/lib/python3.11/dist-packages (from anyio<5,>=3.5.0->openai) (3.10)\n",
            "Requirement already satisfied: certifi in /usr/local/lib/python3.11/dist-packages (from httpx<1,>=0.23.0->openai) (2025.7.14)\n",
            "Requirement already satisfied: httpcore==1.* in /usr/local/lib/python3.11/dist-packages (from httpx<1,>=0.23.0->openai) (1.0.9)\n",
            "Requirement already satisfied: h11>=0.16 in /usr/local/lib/python3.11/dist-packages (from httpcore==1.*->httpx<1,>=0.23.0->openai) (0.16.0)\n",
            "Requirement already satisfied: annotated-types>=0.6.0 in /usr/local/lib/python3.11/dist-packages (from pydantic<3,>=1.9.0->openai) (0.7.0)\n",
            "Requirement already satisfied: pydantic-core==2.33.2 in /usr/local/lib/python3.11/dist-packages (from pydantic<3,>=1.9.0->openai) (2.33.2)\n",
            "Requirement already satisfied: typing-inspection>=0.4.0 in /usr/local/lib/python3.11/dist-packages (from pydantic<3,>=1.9.0->openai) (0.4.1)\n"
          ]
        }
      ],
      "source": [
        "!pip install openai"
      ]
    },
    {
      "cell_type": "code",
      "execution_count": null,
      "metadata": {
        "colab": {
          "base_uri": "https://localhost:8080/"
        },
        "id": "yaAvRv_6h670",
        "outputId": "e9125b1e-5e92-43d3-914a-055a1372095b"
      },
      "outputs": [
        {
          "name": "stdout",
          "output_type": "stream",
          "text": [
            "Requirement already satisfied: openai in /usr/local/lib/python3.11/dist-packages (1.97.1)\n",
            "Requirement already satisfied: scikit-learn in /usr/local/lib/python3.11/dist-packages (1.6.1)\n",
            "Requirement already satisfied: pandas in /usr/local/lib/python3.11/dist-packages (2.2.2)\n",
            "Requirement already satisfied: anyio<5,>=3.5.0 in /usr/local/lib/python3.11/dist-packages (from openai) (4.9.0)\n",
            "Requirement already satisfied: distro<2,>=1.7.0 in /usr/local/lib/python3.11/dist-packages (from openai) (1.9.0)\n",
            "Requirement already satisfied: httpx<1,>=0.23.0 in /usr/local/lib/python3.11/dist-packages (from openai) (0.28.1)\n",
            "Requirement already satisfied: jiter<1,>=0.4.0 in /usr/local/lib/python3.11/dist-packages (from openai) (0.10.0)\n",
            "Requirement already satisfied: pydantic<3,>=1.9.0 in /usr/local/lib/python3.11/dist-packages (from openai) (2.11.7)\n",
            "Requirement already satisfied: sniffio in /usr/local/lib/python3.11/dist-packages (from openai) (1.3.1)\n",
            "Requirement already satisfied: tqdm>4 in /usr/local/lib/python3.11/dist-packages (from openai) (4.67.1)\n",
            "Requirement already satisfied: typing-extensions<5,>=4.11 in /usr/local/lib/python3.11/dist-packages (from openai) (4.14.1)\n",
            "Requirement already satisfied: numpy>=1.19.5 in /usr/local/lib/python3.11/dist-packages (from scikit-learn) (2.0.2)\n",
            "Requirement already satisfied: scipy>=1.6.0 in /usr/local/lib/python3.11/dist-packages (from scikit-learn) (1.16.1)\n",
            "Requirement already satisfied: joblib>=1.2.0 in /usr/local/lib/python3.11/dist-packages (from scikit-learn) (1.5.1)\n",
            "Requirement already satisfied: threadpoolctl>=3.1.0 in /usr/local/lib/python3.11/dist-packages (from scikit-learn) (3.6.0)\n",
            "Requirement already satisfied: python-dateutil>=2.8.2 in /usr/local/lib/python3.11/dist-packages (from pandas) (2.9.0.post0)\n",
            "Requirement already satisfied: pytz>=2020.1 in /usr/local/lib/python3.11/dist-packages (from pandas) (2025.2)\n",
            "Requirement already satisfied: tzdata>=2022.7 in /usr/local/lib/python3.11/dist-packages (from pandas) (2025.2)\n",
            "Requirement already satisfied: idna>=2.8 in /usr/local/lib/python3.11/dist-packages (from anyio<5,>=3.5.0->openai) (3.10)\n",
            "Requirement already satisfied: certifi in /usr/local/lib/python3.11/dist-packages (from httpx<1,>=0.23.0->openai) (2025.7.14)\n",
            "Requirement already satisfied: httpcore==1.* in /usr/local/lib/python3.11/dist-packages (from httpx<1,>=0.23.0->openai) (1.0.9)\n",
            "Requirement already satisfied: h11>=0.16 in /usr/local/lib/python3.11/dist-packages (from httpcore==1.*->httpx<1,>=0.23.0->openai) (0.16.0)\n",
            "Requirement already satisfied: annotated-types>=0.6.0 in /usr/local/lib/python3.11/dist-packages (from pydantic<3,>=1.9.0->openai) (0.7.0)\n",
            "Requirement already satisfied: pydantic-core==2.33.2 in /usr/local/lib/python3.11/dist-packages (from pydantic<3,>=1.9.0->openai) (2.33.2)\n",
            "Requirement already satisfied: typing-inspection>=0.4.0 in /usr/local/lib/python3.11/dist-packages (from pydantic<3,>=1.9.0->openai) (0.4.1)\n",
            "Requirement already satisfied: six>=1.5 in /usr/local/lib/python3.11/dist-packages (from python-dateutil>=2.8.2->pandas) (1.17.0)\n"
          ]
        }
      ],
      "source": [
        "!pip install openai scikit-learn pandas"
      ]
    },
    {
      "cell_type": "markdown",
      "metadata": {
        "id": "mbcmRkWiuyiF"
      },
      "source": [
        "# Classifier"
      ]
    },
    {
      "cell_type": "code",
      "execution_count": null,
      "metadata": {
        "colab": {
          "base_uri": "https://localhost:8080/"
        },
        "id": "bQern_JM2DKN",
        "outputId": "b8095469-3a1c-41a1-bc60-acac7a3e6dd2"
      },
      "outputs": [
        {
          "output_type": "stream",
          "name": "stdout",
          "text": [
            "✅ Classification Report:\n",
            "\n",
            "                precision    recall  f1-score   support\n",
            "\n",
            "       Dormant       0.92      0.89      0.91      1000\n",
            "Low Engagement       0.82      0.85      0.84      1000\n",
            "        Active       0.92      0.93      0.92      1000\n",
            "\n",
            "      accuracy                           0.89      3000\n",
            "     macro avg       0.89      0.89      0.89      3000\n",
            "  weighted avg       0.89      0.89      0.89      3000\n",
            "\n",
            "\n",
            "📊 Confusion Matrix:\n",
            "[[889 111   0]\n",
            " [ 73 851  76]\n",
            " [  0  75 925]]\n"
          ]
        }
      ],
      "source": [
        "import pandas as pd\n",
        "from sklearn.model_selection import train_test_split\n",
        "from sklearn.ensemble import RandomForestClassifier\n",
        "from sklearn.metrics import classification_report, confusion_matrix\n",
        "from sklearn.preprocessing import StandardScaler\n",
        "\n",
        "# Load the dataset\n",
        "df = pd.read_csv(\"newDataset.csv\")\n",
        "\n",
        "\n",
        "\n",
        "# Separate features and target\n",
        "X = df.drop(columns=[\"Customer_engagement_level\"])   # Features\n",
        "y = df[\"Customer_engagement_level\"]                  # Target (0, 1, 2)\n",
        "\n",
        "# Normalize features\n",
        "scaler = StandardScaler()\n",
        "X_scaled = scaler.fit_transform(X)\n",
        "\n",
        "# Split into training and test sets\n",
        "X_train, X_test, y_train, y_test = train_test_split(X,y, test_size=0.3, stratify=y)\n",
        "\n",
        "# Initialize and train classifier\n",
        "model = RandomForestClassifier(\n",
        "    n_estimators=205,\n",
        "    min_samples_split=10,\n",
        "    min_samples_leaf=7,\n",
        "    class_weight=\"balanced\",\n",
        ")\n",
        "\n",
        "model.fit(X_train, y_train)\n",
        "\n",
        "# Predict\n",
        "y_pred = model.predict(X_test)\n",
        "\n",
        "# Evaluate\n",
        "print(\"✅ Classification Report:\\n\")\n",
        "print(classification_report(y_test, y_pred, target_names=[\"Dormant\", \"Low Engagement\", \"Active\"]))\n",
        "\n",
        "print(\"\\n📊 Confusion Matrix:\")\n",
        "print(confusion_matrix(y_test, y_pred))\n",
        "\n",
        "import pickle\n",
        "\n",
        "# Save the trained model to a file\n",
        "with open(\"classificationModel.pkl\", \"wb\") as f:\n",
        "    pickle.dump(model, f)\n",
        "\n",
        "print(\"Model saved successfully!\")\n"
      ]
    },
    {
      "cell_type": "code",
      "source": [
        "\n",
        "import numpy as np\n",
        "\n",
        "importances = model.feature_importances_\n",
        "feature_names = X.columns\n",
        "\n",
        "\n",
        "feature_importance_df = pd.DataFrame({\n",
        "    'Feature': feature_names,\n",
        "    'Importance': importances\n",
        "})\n",
        "\n",
        "\n",
        "top_features = feature_importance_df.sort_values(by='Importance', ascending=False).head(5)\n",
        "\n",
        "print(\"\\n Top 5 Important Features:\")\n",
        "print(top_features.to_string(index=False))\n"
      ],
      "metadata": {
        "colab": {
          "base_uri": "https://localhost:8080/"
        },
        "id": "-ob9sr5maw24",
        "outputId": "1d64b8a2-1981-4d52-c404-fc9a2f963fd1"
      },
      "execution_count": null,
      "outputs": [
        {
          "output_type": "stream",
          "name": "stdout",
          "text": [
            "\n",
            " Top 5 Important Features:\n",
            "                  Feature  Importance\n",
            "             credit_score    0.516355\n",
            "   loyalty_points_balance    0.152591\n",
            "     app_opens_last_7days    0.114687\n",
            "missed_payments_last_year    0.060601\n",
            "   avg_payment_delay_days    0.034602\n"
          ]
        }
      ]
    },
    {
      "cell_type": "markdown",
      "source": [
        "# Generate_reason"
      ],
      "metadata": {
        "id": "LBfaGOwByMlC"
      }
    },
    {
      "cell_type": "code",
      "execution_count": null,
      "metadata": {
        "id": "JF1kv-Svo_6z"
      },
      "outputs": [],
      "source": [
        "import os\n",
        "from google.colab import userdata\n",
        "os.environ['OPENAI_API_KEY'] = userdata.get('Secret_Key')\n",
        "\n"
      ]
    },
    {
      "cell_type": "code",
      "execution_count": null,
      "metadata": {
        "id": "Gu3trdHtpsuk"
      },
      "outputs": [],
      "source": [
        "from openai import OpenAI"
      ]
    },
    {
      "cell_type": "code",
      "execution_count": null,
      "metadata": {
        "id": "N3JStnTvpxs6"
      },
      "outputs": [],
      "source": [
        "clint = OpenAI()"
      ]
    },
    {
      "cell_type": "code",
      "source": [
        "\n",
        "dormant_customers = df[df[\"Customer_engagement_level\"] == 0].copy()\n",
        "\n",
        "\n",
        "# ========================\n",
        "def generate_reason_prompt_arabic(row):\n",
        "    prompt = f\"\"\"\n",
        "أنت خبير تحليل بيانات العملاء في القطاع المصرفي.\n",
        "\n",
        "العميل التالي تم تصنيفه على أنه \"خامل\". بناءً على خصائصه أدناه، اكتب تحليلًا مهنيًا باللغة العربية يفسر بشكل منطقي سبب خمول هذا العميل. لا تكتفِ بالوصف، بل اربط البيانات ببعضها لتقديم تحليل استنتاجي.\n",
        "\n",
        "مواصفات العميل:\n",
        "- عمر الحساب: {row['account_age_days']} يوم\n",
        "- الحد الائتماني: {row['credit_limit']} ريال سعودي\n",
        "- نوع الحساب: {row['account_type']}\n",
        "- متوسط قيمة العمليات: {row['avg_transaction_value']}\n",
        "- عدد الشكاوى: {row['num_complaints']}\n",
        "- عدد مكالمات الدعم: {row['calls_to_support']}\n",
        "- فتح التطبيق آخر ٧ أيام: {row['app_opens_last_7days']}\n",
        "- إشعارات مفعلة: {\"نعم\" if row['push_notifications_enabled'] == 1 else \"لا\"}\n",
        "- رصيد نقاط الولاء: {row['loyalty_points_balance']}\n",
        "- عدد الدفعات التلقائية: {row['num_auto_payments']}\n",
        "- عدد التأخيرات في الدفع: {row['missed_payments_last_year']}\n",
        "- درجة الائتمان: {row['credit_score']}\n",
        "\n",
        "قدم تحليلك في فقرة واحدة باللغة العربية.\n",
        "\"\"\"\n",
        "    try:\n",
        "        response = client.chat.completions.create(\n",
        "            model=\"gpt-4\",\n",
        "            messages=[\n",
        "                {\"role\": \"system\", \"content\": \"أنت مساعد محلل بيانات في بنك.\"},\n",
        "                {\"role\": \"user\", \"content\": prompt}\n",
        "            ],\n",
        "            temperature=0.5\n",
        "        )\n",
        "        return response.choices[0].message.content.strip()\n",
        "    except Exception as e:\n",
        "        return f\"❌ خطأ: {str(e)}\"\n",
        "\n",
        "dormant_customers[\"arabic_reason\"] = dormant_customers.apply(generate_reason_prompt_arabic, axis=1)\n",
        "\n",
        "\n"
      ],
      "metadata": {
        "id": "Ob7RLNs8cCoa"
      },
      "execution_count": null,
      "outputs": []
    },
    {
      "cell_type": "code",
      "source": [
        "dormant_customers.to_csv(\"dormant_customers_with_reasons.csv\", index=False)\n",
        "print(\"\\nSample Dormant Customers with Reasons:\")\n",
        "print(dormant_customers[[\"account_age_days\", \"credit_limit\", \"account_type\", \"arabic_reason\"]].head())"
      ],
      "metadata": {
        "colab": {
          "base_uri": "https://localhost:8080/"
        },
        "id": "N3AGvbYELWl5",
        "outputId": "d8603457-2502-45ad-9749-5bd50bd91282"
      },
      "execution_count": null,
      "outputs": [
        {
          "output_type": "stream",
          "name": "stdout",
          "text": [
            "\n",
            "Sample Dormant Customers with Reasons:\n",
            "    account_age_days  credit_limit  account_type  \\\n",
            "0               3204         20000             0   \n",
            "10              1268          5000             0   \n",
            "15              3201         10000             3   \n",
            "18              1715          5000             1   \n",
            "19              3410         50000             3   \n",
            "\n",
            "                                        arabic_reason  \n",
            "0   يتضح من البيانات المقدمة أن العميل يعتبر \"خامل...  \n",
            "10  العميل الذي تم تصنيفه كخامل يمتلك حساباً قديما...  \n",
            "15  يمكن تفسير خمول العميل من خلال تحليل البيانات ...  \n",
            "18  يتضح من البيانات المقدمة أن العميل يعتبر \"خامل...  \n",
            "19  يتضح من خلال تحليل بيانات العميل أنه يعتبر \"خا...  \n"
          ]
        }
      ]
    },
    {
      "cell_type": "code",
      "source": [
        "import os\n",
        "import pandas as pd\n",
        "\n",
        "# ===  Check if saved file exists before generating ===\n",
        "csv_path = \"dormant_customers_with_reasons.csv\"\n",
        "\n",
        "if os.path.exists(csv_path):\n",
        "    dormant_customers = pd.read_csv(csv_path)\n",
        "    print(\"✅ Loaded GPT explanations from file.\")\n",
        "else:\n",
        "    print(\" Generating GPT-based reasons for dormant customers...\")\n",
        "    dormant_customers[\"arabic_reason\"] = dormant_customers.apply(generate_reason_prompt_arabic, axis=1)\n",
        "\n",
        "    # Save results as if it's a model output\n",
        "    dormant_customers.to_csv(csv_path, index=False)\n",
        "    print(f\"Saved GPT explanations to: {csv_path}\")\n"
      ],
      "metadata": {
        "colab": {
          "base_uri": "https://localhost:8080/"
        },
        "id": "dRc2mXmxSzBk",
        "outputId": "515dd674-076d-412e-9e86-f617caaf3f6c"
      },
      "execution_count": null,
      "outputs": [
        {
          "output_type": "stream",
          "name": "stdout",
          "text": [
            "✅ Loaded GPT explanations from file.\n"
          ]
        }
      ]
    },
    {
      "cell_type": "code",
      "source": [
        "dormant_customers.to_excel(\"gpt_model_output_v1.xlsx\", index=False)\n"
      ],
      "metadata": {
        "id": "G4NNNMBsTjMA"
      },
      "execution_count": null,
      "outputs": []
    },
    {
      "cell_type": "code",
      "source": [
        "dormant_customers.to_csv(\"gpt_model_output_v1.csv\", index=False)\n"
      ],
      "metadata": {
        "id": "OGf_qY5uS75Q"
      },
      "execution_count": null,
      "outputs": []
    },
    {
      "cell_type": "code",
      "source": [
        "print(dormant_customers[[\"account_age_days\", \"credit_limit\", \"account_type\", \"arabic_reason\"]])"
      ],
      "metadata": {
        "colab": {
          "base_uri": "https://localhost:8080/"
        },
        "id": "o1GZ3dMLPOhY",
        "outputId": "3e0d9181-9ea2-4c27-b023-9f8ca6785c55"
      },
      "execution_count": null,
      "outputs": [
        {
          "output_type": "stream",
          "name": "stdout",
          "text": [
            "    account_age_days  credit_limit  account_type  \\\n",
            "0               3204         20000             0   \n",
            "10              1268          5000             0   \n",
            "\n",
            "                                        arabic_reason  \n",
            "0   يتضح من البيانات المقدمة أن العميل يعتبر \"خامل...  \n",
            "10  العميل الذي تم تصنيفه كخامل يمتلك حساباً قديما...  \n"
          ]
        }
      ]
    },
    {
      "cell_type": "code",
      "source": [
        "import pandas as pd\n",
        "\n",
        "#\n",
        "pd.set_option('display.max_colwidth', None)\n",
        "pd.set_option('display.width', None)\n",
        "\n",
        "\n",
        "print(dormant_customers[[\"account_age_days\", \"credit_limit\", \"account_type\", \"arabic_reason\"]].head(2))\n"
      ],
      "metadata": {
        "colab": {
          "base_uri": "https://localhost:8080/"
        },
        "id": "YiqPFu26Qo4i",
        "outputId": "0f192f7c-99dd-4f04-f919-abd14d0148fc"
      },
      "execution_count": null,
      "outputs": [
        {
          "output_type": "stream",
          "name": "stdout",
          "text": [
            "    account_age_days  credit_limit  account_type  \\\n",
            "0               3204         20000             0   \n",
            "10              1268          5000             0   \n",
            "\n",
            "                                                                                                                                                                                                                                                                                                                                                                                                                                                                                                                                                                                                                                                                                                                                                    arabic_reason  \n",
            "0   يتضح من البيانات المقدمة أن العميل يعتبر \"خاملًا\"، وهذا قد يعود لعدة أسباب. أولاً، على الرغم من أن عمر الحساب طويل (3204 يوم)، إلا أن العميل لم يستخدم التطبيق إلا مرة واحدة في الأسبوع الماضي، مما يشير إلى قلة النشاط. ثانياً، العميل لديه حد ائتماني كبير (20000 ريال سعودي) ولكن متوسط قيمة العمليات منخفض (4857.57 ريال)، مما يشير إلى أن العميل لا يستغل الحد الائتماني بالكامل. ثالثاً، العميل ليس لديه أي دفعات تلقائية، مما يشير إلى عدم وجود الالتزامات المالية الدورية. رابعاً، الرصيد العالي لنقاط الولاء (3144 نقطة) مع عدم استخدامها يشير إلى قلة الاهتمام بالمكافآت المصرفية. وأخيراً، عدم تفعيل الإشعارات يشير إلى أن العميل ليس مهتمًا بالتحديثات والعروض المصرفية. هذه العوامل مجتمعة تشير إلى أن العميل ليس نشطًا في استخدام حسابه البنكي.  \n",
            "10                                                                                                   العميل الذي تم تصنيفه كخامل يمتلك حساباً قديماً في البنك (1268 يوم)، ولكن يبدو أنه لا يستخدم الحساب بشكل فعال. يشير متوسط قيمة العمليات البالغ 3112.76 ريال إلى أن العميل لا يستغل الحد الائتماني البالغ 5000 ريال بشكل كامل. بالإضافة إلى ذلك، العميل لم يفتح التطبيق خلال الأيام السبعة الماضية وليس لديه أي إشعارات مفعلة، مما يدل على نقص في التفاعل مع الخدمات المصرفية الرقمية. على الرغم من وجود رصيد جيد من نقاط الولاء (1029 نقطة)، العميل ليس لديه أي دفعات تلقائية، مما يشير إلى استخدام محدود للخدمات المصرفية التلقائية. بالإضافة إلى ذلك، ليس لدى العميل أي تأخيرات في الدفع أو شكاوى، مما يدل على أنه راضٍ عن الخدمة ولكنه لا يستخدمها بنشاط.  \n"
          ]
        }
      ]
    },
    {
      "cell_type": "code",
      "source": [
        "import os\n",
        "os.getcwd()"
      ],
      "metadata": {
        "colab": {
          "base_uri": "https://localhost:8080/",
          "height": 36
        },
        "id": "N4WGq9xUyluF",
        "outputId": "2b314752-f2e0-43bb-8da5-5ee18dc6168c"
      },
      "execution_count": 1,
      "outputs": [
        {
          "output_type": "execute_result",
          "data": {
            "text/plain": [
              "'/content'"
            ],
            "application/vnd.google.colaboratory.intrinsic+json": {
              "type": "string"
            }
          },
          "metadata": {},
          "execution_count": 1
        }
      ]
    },
    {
      "cell_type": "code",
      "source": [],
      "metadata": {
        "id": "7e00_gBuys5t"
      },
      "execution_count": null,
      "outputs": []
    }
  ],
  "metadata": {
    "colab": {
      "machine_shape": "hm",
      "provenance": [],
      "authorship_tag": "ABX9TyPTBlHVVKI7/I7tWgR4Hhbp",
      "include_colab_link": true
    },
    "kernelspec": {
      "display_name": "Python 3",
      "name": "python3"
    },
    "language_info": {
      "name": "python"
    }
  },
  "nbformat": 4,
  "nbformat_minor": 0
}